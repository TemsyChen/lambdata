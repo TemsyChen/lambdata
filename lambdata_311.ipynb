{
  "nbformat": 4,
  "nbformat_minor": 0,
  "metadata": {
    "colab": {
      "name": "lambdata-311.ipynb",
      "provenance": [],
      "authorship_tag": "ABX9TyNSFIvmPVCw6+hU4yoLLdLP",
      "include_colab_link": true
    },
    "kernelspec": {
      "name": "python3",
      "display_name": "Python 3"
    }
  },
  "cells": [
    {
      "cell_type": "markdown",
      "metadata": {
        "id": "view-in-github",
        "colab_type": "text"
      },
      "source": [
        "<a href=\"https://colab.research.google.com/github/nsriniva/lambdata/blob/main/lambdata_311.ipynb\" target=\"_parent\"><img src=\"https://colab.research.google.com/assets/colab-badge.svg\" alt=\"Open In Colab\"/></a>"
      ]
    },
    {
      "cell_type": "code",
      "metadata": {
        "colab": {
          "base_uri": "https://localhost:8080/"
        },
        "id": "7jKLkI1TuzNX",
        "outputId": "c8534213-ec54-4593-e9c5-81a578fdb750"
      },
      "source": [
        "!python --version\n",
        "\n",
        "!pip install -i https://test.pypi.org/simple/ --upgrade lambdata-nsriniva"
      ],
      "execution_count": 1,
      "outputs": [
        {
          "output_type": "stream",
          "text": [
            "Python 3.6.9\n",
            "Looking in indexes: https://test.pypi.org/simple/\n",
            "Collecting lambdata-nsriniva\n",
            "  Downloading https://test-files.pythonhosted.org/packages/4c/18/0cf774d336a0c60ec94e458909a991cf59b081d85259dbfed0b7c5380f02/lambdata_nsriniva-0.0.8-py3-none-any.whl\n",
            "Requirement already satisfied, skipping upgrade: pandas in /usr/local/lib/python3.6/dist-packages (from lambdata-nsriniva) (1.1.5)\n",
            "Requirement already satisfied, skipping upgrade: numpy>=1.15.4 in /usr/local/lib/python3.6/dist-packages (from pandas->lambdata-nsriniva) (1.19.5)\n",
            "Requirement already satisfied, skipping upgrade: python-dateutil>=2.7.3 in /usr/local/lib/python3.6/dist-packages (from pandas->lambdata-nsriniva) (2.8.1)\n",
            "Requirement already satisfied, skipping upgrade: pytz>=2017.2 in /usr/local/lib/python3.6/dist-packages (from pandas->lambdata-nsriniva) (2018.9)\n",
            "Requirement already satisfied, skipping upgrade: six>=1.5 in /usr/local/lib/python3.6/dist-packages (from python-dateutil>=2.7.3->pandas->lambdata-nsriniva) (1.15.0)\n",
            "Installing collected packages: lambdata-nsriniva\n",
            "  Found existing installation: lambdata-nsriniva 0.0.7\n",
            "    Uninstalling lambdata-nsriniva-0.0.7:\n",
            "      Successfully uninstalled lambdata-nsriniva-0.0.7\n",
            "Successfully installed lambdata-nsriniva-0.0.8\n"
          ],
          "name": "stdout"
        }
      ]
    },
    {
      "cell_type": "code",
      "metadata": {
        "id": "yX7Qz4gS-YEr"
      },
      "source": [
        "from lambdata_nsriniva import helper_functions\n",
        "\n",
        "null_count = helper_functions.null_count\n",
        "\n",
        "abbr_2_st = helper_functions.abbr_2_st"
      ],
      "execution_count": 6,
      "outputs": []
    },
    {
      "cell_type": "code",
      "metadata": {
        "colab": {
          "base_uri": "https://localhost:8080/",
          "height": 836
        },
        "id": "a_fw2D0-AOmM",
        "outputId": "5e34889e-9517-4d92-d0b7-b3d8a65bcf27"
      },
      "source": [
        "from pandas import DataFrame, Series\n",
        "from numpy import NaN\n",
        "\n",
        "ST_ABBR = ('st','abbr')\n",
        "\n",
        "Null_DF = DataFrame({'col0':[NaN, 4, 3],'col1':[9,NaN, NaN], 'col2':[10, 2, 2]})\n",
        "\n",
        "abbr_st = DataFrame({ST_ABBR[1]:['AL', 'AZ', 'CA', 'DE', 'OH'], ST_ABBR[0]:['Alabama','Arizona','California','Delaware','Ohio']})\n",
        "\n",
        "display(Null_DF)\n",
        "display(abbr_st)\n",
        "\n",
        "print(f'Null Count : {null_count(Null_DF)}\\n')\n",
        "print(f'Output Series:\\n{abbr_2_st(abbr_st[ST_ABBR[1]])}\\n')\n",
        "print(f'Output Series:\\n{abbr_2_st(abbr_st[ST_ABBR[0]], False)}\\n')\n",
        "\n"
      ],
      "execution_count": 7,
      "outputs": [
        {
          "output_type": "display_data",
          "data": {
            "text/html": [
              "<div>\n",
              "<style scoped>\n",
              "    .dataframe tbody tr th:only-of-type {\n",
              "        vertical-align: middle;\n",
              "    }\n",
              "\n",
              "    .dataframe tbody tr th {\n",
              "        vertical-align: top;\n",
              "    }\n",
              "\n",
              "    .dataframe thead th {\n",
              "        text-align: right;\n",
              "    }\n",
              "</style>\n",
              "<table border=\"1\" class=\"dataframe\">\n",
              "  <thead>\n",
              "    <tr style=\"text-align: right;\">\n",
              "      <th></th>\n",
              "      <th>col0</th>\n",
              "      <th>col1</th>\n",
              "      <th>col2</th>\n",
              "    </tr>\n",
              "  </thead>\n",
              "  <tbody>\n",
              "    <tr>\n",
              "      <th>0</th>\n",
              "      <td>NaN</td>\n",
              "      <td>9.0</td>\n",
              "      <td>10</td>\n",
              "    </tr>\n",
              "    <tr>\n",
              "      <th>1</th>\n",
              "      <td>4.0</td>\n",
              "      <td>NaN</td>\n",
              "      <td>2</td>\n",
              "    </tr>\n",
              "    <tr>\n",
              "      <th>2</th>\n",
              "      <td>3.0</td>\n",
              "      <td>NaN</td>\n",
              "      <td>2</td>\n",
              "    </tr>\n",
              "  </tbody>\n",
              "</table>\n",
              "</div>"
            ],
            "text/plain": [
              "   col0  col1  col2\n",
              "0   NaN   9.0    10\n",
              "1   4.0   NaN     2\n",
              "2   3.0   NaN     2"
            ]
          },
          "metadata": {
            "tags": []
          }
        },
        {
          "output_type": "display_data",
          "data": {
            "text/html": [
              "<div>\n",
              "<style scoped>\n",
              "    .dataframe tbody tr th:only-of-type {\n",
              "        vertical-align: middle;\n",
              "    }\n",
              "\n",
              "    .dataframe tbody tr th {\n",
              "        vertical-align: top;\n",
              "    }\n",
              "\n",
              "    .dataframe thead th {\n",
              "        text-align: right;\n",
              "    }\n",
              "</style>\n",
              "<table border=\"1\" class=\"dataframe\">\n",
              "  <thead>\n",
              "    <tr style=\"text-align: right;\">\n",
              "      <th></th>\n",
              "      <th>abbr</th>\n",
              "      <th>st</th>\n",
              "    </tr>\n",
              "  </thead>\n",
              "  <tbody>\n",
              "    <tr>\n",
              "      <th>0</th>\n",
              "      <td>AL</td>\n",
              "      <td>Alabama</td>\n",
              "    </tr>\n",
              "    <tr>\n",
              "      <th>1</th>\n",
              "      <td>AZ</td>\n",
              "      <td>Arizona</td>\n",
              "    </tr>\n",
              "    <tr>\n",
              "      <th>2</th>\n",
              "      <td>CA</td>\n",
              "      <td>California</td>\n",
              "    </tr>\n",
              "    <tr>\n",
              "      <th>3</th>\n",
              "      <td>DE</td>\n",
              "      <td>Delaware</td>\n",
              "    </tr>\n",
              "    <tr>\n",
              "      <th>4</th>\n",
              "      <td>OH</td>\n",
              "      <td>Ohio</td>\n",
              "    </tr>\n",
              "  </tbody>\n",
              "</table>\n",
              "</div>"
            ],
            "text/plain": [
              "  abbr          st\n",
              "0   AL     Alabama\n",
              "1   AZ     Arizona\n",
              "2   CA  California\n",
              "3   DE    Delaware\n",
              "4   OH        Ohio"
            ]
          },
          "metadata": {
            "tags": []
          }
        },
        {
          "output_type": "stream",
          "text": [
            "Input DataFrame:\n",
            "   col0  col1  col2\n",
            "0   NaN   9.0    10\n",
            "1   4.0   NaN     2\n",
            "2   3.0   NaN     2\n",
            "Null Count : 3\n",
            "\n",
            "Input Series:\n",
            "0    AL\n",
            "1    AZ\n",
            "2    CA\n",
            "3    DE\n",
            "4    OH\n",
            "Name: abbr, dtype: object\n",
            "Output Series:\n",
            "st    [Alabama, Arizona, California, Delaware, Ohio]\n",
            "dtype: object\n",
            "\n",
            "Input Series:\n",
            "0       Alabama\n",
            "1       Arizona\n",
            "2    California\n",
            "3      Delaware\n",
            "4          Ohio\n",
            "Name: st, dtype: object\n",
            "Output Series:\n",
            "abbr    [AL, AZ, CA, DE, OH]\n",
            "dtype: object\n",
            "\n"
          ],
          "name": "stdout"
        }
      ]
    }
  ]
}